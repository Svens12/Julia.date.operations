{
 "cells": [
  {
   "cell_type": "code",
   "execution_count": 2,
   "id": "aa61c0a8",
   "metadata": {},
   "outputs": [],
   "source": [
    "using Dates"
   ]
  },
  {
   "cell_type": "code",
   "execution_count": null,
   "id": "fcddc4d8",
   "metadata": {},
   "outputs": [],
   "source": [
    "Dates.Time\n",
    "Dates.Date\n",
    "Dates.Datetime"
   ]
  },
  {
   "cell_type": "code",
   "execution_count": 3,
   "id": "a6966628",
   "metadata": {},
   "outputs": [
    {
     "data": {
      "text/plain": [
       "2022-12-22T19:21:45.023"
      ]
     },
     "execution_count": 3,
     "metadata": {},
     "output_type": "execute_result"
    }
   ],
   "source": [
    "now()"
   ]
  },
  {
   "cell_type": "code",
   "execution_count": 4,
   "id": "85772aea",
   "metadata": {},
   "outputs": [
    {
     "data": {
      "text/plain": [
       "2022-12-22"
      ]
     },
     "execution_count": 4,
     "metadata": {},
     "output_type": "execute_result"
    }
   ],
   "source": [
    "today()"
   ]
  },
  {
   "cell_type": "code",
   "execution_count": 26,
   "id": "3e01da28",
   "metadata": {},
   "outputs": [
    {
     "data": {
      "text/plain": [
       "2000-05-01"
      ]
     },
     "execution_count": 26,
     "metadata": {},
     "output_type": "execute_result"
    }
   ],
   "source": [
    "birthdate=Date(2000,5,1)"
   ]
  },
  {
   "cell_type": "code",
   "execution_count": 24,
   "id": "bf523366",
   "metadata": {},
   "outputs": [
    {
     "data": {
      "text/plain": [
       "2000-05-01T10:15:25"
      ]
     },
     "execution_count": 24,
     "metadata": {},
     "output_type": "execute_result"
    }
   ],
   "source": [
    "birthdate=DateTime(2000,5,1,10,15,25)"
   ]
  },
  {
   "cell_type": "code",
   "execution_count": 10,
   "id": "d86dc9db",
   "metadata": {},
   "outputs": [
    {
     "data": {
      "text/plain": [
       "2022-12-22T16:24:49.598"
      ]
     },
     "execution_count": 10,
     "metadata": {},
     "output_type": "execute_result"
    }
   ],
   "source": [
    "now(UTC)"
   ]
  },
  {
   "cell_type": "code",
   "execution_count": 11,
   "id": "378cdfa7",
   "metadata": {},
   "outputs": [
    {
     "data": {
      "text/plain": [
       "2000"
      ]
     },
     "execution_count": 11,
     "metadata": {},
     "output_type": "execute_result"
    }
   ],
   "source": [
    "year(birthdate)"
   ]
  },
  {
   "cell_type": "code",
   "execution_count": 12,
   "id": "ef991089",
   "metadata": {},
   "outputs": [
    {
     "data": {
      "text/plain": [
       "5"
      ]
     },
     "execution_count": 12,
     "metadata": {},
     "output_type": "execute_result"
    }
   ],
   "source": [
    "month(birthdate)"
   ]
  },
  {
   "cell_type": "code",
   "execution_count": 13,
   "id": "4e7faaf1",
   "metadata": {},
   "outputs": [
    {
     "data": {
      "text/plain": [
       "1"
      ]
     },
     "execution_count": 13,
     "metadata": {},
     "output_type": "execute_result"
    }
   ],
   "source": [
    "day(birthdate)"
   ]
  },
  {
   "cell_type": "code",
   "execution_count": 14,
   "id": "a2c954db",
   "metadata": {},
   "outputs": [
    {
     "data": {
      "text/plain": [
       "2022"
      ]
     },
     "execution_count": 14,
     "metadata": {},
     "output_type": "execute_result"
    }
   ],
   "source": [
    "year(now())"
   ]
  },
  {
   "cell_type": "code",
   "execution_count": 15,
   "id": "5540182b",
   "metadata": {},
   "outputs": [
    {
     "data": {
      "text/plain": [
       "19"
      ]
     },
     "execution_count": 15,
     "metadata": {},
     "output_type": "execute_result"
    }
   ],
   "source": [
    "hour(now())"
   ]
  },
  {
   "cell_type": "code",
   "execution_count": 17,
   "id": "ea6c5911",
   "metadata": {},
   "outputs": [
    {
     "data": {
      "text/plain": [
       "1"
      ]
     },
     "execution_count": 17,
     "metadata": {},
     "output_type": "execute_result"
    }
   ],
   "source": [
    "dayofweek(birthdate)"
   ]
  },
  {
   "cell_type": "code",
   "execution_count": 19,
   "id": "aa25886e",
   "metadata": {},
   "outputs": [
    {
     "data": {
      "text/plain": [
       "\"Monday\""
      ]
     },
     "execution_count": 19,
     "metadata": {},
     "output_type": "execute_result"
    }
   ],
   "source": [
    "dayname(birthdate)"
   ]
  },
  {
   "cell_type": "code",
   "execution_count": 20,
   "id": "863a79b6",
   "metadata": {},
   "outputs": [
    {
     "data": {
      "text/plain": [
       "31"
      ]
     },
     "execution_count": 20,
     "metadata": {},
     "output_type": "execute_result"
    }
   ],
   "source": [
    "dayofquarter(birthdate)"
   ]
  },
  {
   "cell_type": "code",
   "execution_count": 21,
   "id": "972c7c2c",
   "metadata": {},
   "outputs": [
    {
     "data": {
      "text/plain": [
       "31"
      ]
     },
     "execution_count": 21,
     "metadata": {},
     "output_type": "execute_result"
    }
   ],
   "source": [
    "daysinmonth(birthdate)"
   ]
  },
  {
   "cell_type": "code",
   "execution_count": 27,
   "id": "2c5355eb",
   "metadata": {},
   "outputs": [
    {
     "data": {
      "text/plain": [
       "8270 days"
      ]
     },
     "execution_count": 27,
     "metadata": {},
     "output_type": "execute_result"
    }
   ],
   "source": [
    "today() - birthdate"
   ]
  },
  {
   "cell_type": "code",
   "execution_count": 28,
   "id": "43f7a365",
   "metadata": {},
   "outputs": [
    {
     "data": {
      "text/plain": [
       "2023-05-22"
      ]
     },
     "execution_count": 28,
     "metadata": {},
     "output_type": "execute_result"
    }
   ],
   "source": [
    "today()+Month(5)"
   ]
  },
  {
   "cell_type": "code",
   "execution_count": 29,
   "id": "6ffcd324",
   "metadata": {},
   "outputs": [
    {
     "data": {
      "text/plain": [
       "dateformat\"dd-mm-yyyy\""
      ]
     },
     "execution_count": 29,
     "metadata": {},
     "output_type": "execute_result"
    }
   ],
   "source": [
    "date_format=DateFormat(\"dd-mm-yyyy\")"
   ]
  },
  {
   "cell_type": "code",
   "execution_count": 30,
   "id": "4131eb31",
   "metadata": {},
   "outputs": [
    {
     "data": {
      "text/plain": [
       "\"01-05-2000\""
      ]
     },
     "execution_count": 30,
     "metadata": {},
     "output_type": "execute_result"
    }
   ],
   "source": [
    "Dates.format(birthdate,date_format)"
   ]
  },
  {
   "cell_type": "code",
   "execution_count": null,
   "id": "d0dc96eb",
   "metadata": {},
   "outputs": [],
   "source": []
  }
 ],
 "metadata": {
  "kernelspec": {
   "display_name": "Julia 1.8.3",
   "language": "julia",
   "name": "julia-1.8"
  },
  "language_info": {
   "file_extension": ".jl",
   "mimetype": "application/julia",
   "name": "julia",
   "version": "1.8.3"
  }
 },
 "nbformat": 4,
 "nbformat_minor": 5
}
